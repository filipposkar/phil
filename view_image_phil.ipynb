{
  "nbformat": 4,
  "nbformat_minor": 0,
  "metadata": {
    "colab": {
      "name": "view_image_phil.ipynb",
      "provenance": []
    },
    "kernelspec": {
      "name": "python3",
      "display_name": "Python 3"
    },
    "language_info": {
      "name": "python"
    }
  },
  "cells": [
    {
      "cell_type": "code",
      "execution_count": null,
      "metadata": {
        "id": "mumt4-IdinGr"
      },
      "outputs": [],
      "source": [
        "# Let's visualize our images\n",
        "\n",
        "# view_image_phil(\"/content/drive/MyDrive/data\",\"phil_pred.jpg\" )\n",
        "\n",
        "import matplotlib.pyplot as plt\n",
        "import matplotlib.image as mpimg\n",
        "import random\n",
        "\n",
        "def view_image_phil(target_dir, target_image):\n",
        "\n",
        "  # Read in the image and plot it using matplotlib\n",
        "  img = mpimg.imread(target_dir + \"/\" + target_image)\n",
        "  plt.imshow(img)\n",
        "  #plt.axis(\"off\")\n",
        "\n",
        "  return True"
      ]
    }
  ]
}